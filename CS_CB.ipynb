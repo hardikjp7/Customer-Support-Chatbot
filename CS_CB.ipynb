{
 "cells": [
  {
   "cell_type": "markdown",
   "id": "a8c4a164",
   "metadata": {},
   "source": [
    "# *Customer-Support-Chatbot*"
   ]
  },
  {
   "cell_type": "markdown",
   "id": "8e73cf5e",
   "metadata": {},
   "source": [
    "### Intsalling selenium"
   ]
  },
  {
   "cell_type": "markdown",
   "id": "9680443e",
   "metadata": {},
   "source": [
    "pip install unstructured selenium"
   ]
  },
  {
   "cell_type": "markdown",
   "id": "f394d58f",
   "metadata": {},
   "source": [
    "## Defining Dependencies"
   ]
  },
  {
   "cell_type": "code",
   "execution_count": 33,
   "id": "8212f2f8",
   "metadata": {},
   "outputs": [],
   "source": [
    "from langchain.vectorstores import FAISS\n",
    "from langchain.text_splitter import CharacterTextSplitter\n",
    "from langchain import OpenAI\n",
    "from langchain.document_loaders import SeleniumURLLoader\n",
    "from langchain import PromptTemplate\n",
    "import os\n",
    "from langchain.embeddings import  HuggingFaceEmbeddings\n",
    "from langchain.memory import ConversationBufferMemory\n",
    "from langchain.chains.question_answering import load_qa_chain\n",
    "    \n"
   ]
  },
  {
   "cell_type": "markdown",
   "id": "3ca2af6a",
   "metadata": {},
   "source": [
    "## Defenining Open AI API Key"
   ]
  },
  {
   "cell_type": "code",
   "execution_count": 44,
   "id": "57489d40",
   "metadata": {},
   "outputs": [],
   "source": [
    "os.environ[\"OPENAI_API_KEY\"] = \"KEY\""
   ]
  },
  {
   "cell_type": "markdown",
   "id": "7cbd1489",
   "metadata": {},
   "source": [
    "## Defining URLS Paths to Get the Required Articals"
   ]
  },
  {
   "cell_type": "code",
   "execution_count": 8,
   "id": "5dfba3b7",
   "metadata": {},
   "outputs": [],
   "source": [
    "# we'll use information from the following articles\n",
    "urls = ['https://beebom.com/what-is-nft-explained/',\n",
    "        'https://beebom.com/how-delete-spotify-account/',\n",
    "        'https://beebom.com/how-download-gif-twitter/',\n",
    "        'https://beebom.com/how-use-chatgpt-linux-terminal/',\n",
    "        'https://beebom.com/how-delete-spotify-account/',\n",
    "        'https://beebom.com/how-save-instagram-story-with-music/',\n",
    "        'https://beebom.com/how-install-pip-windows/',\n",
    "        'https://beebom.com/how-check-disk-usage-linux/']"
   ]
  },
  {
   "cell_type": "markdown",
   "id": "c60da9d5",
   "metadata": {},
   "source": [
    "## Initializing SeleniumURLLoader and Extracting The Content"
   ]
  },
  {
   "cell_type": "code",
   "execution_count": 45,
   "id": "c623d16d",
   "metadata": {},
   "outputs": [
    {
     "name": "stdout",
     "output_type": "stream",
     "text": [
      "huggingface/tokenizers: The current process just got forked, after parallelism has already been used. Disabling parallelism to avoid deadlocks...\n",
      "To disable this warning, you can either:\n",
      "\t- Avoid using `tokenizers` before the fork if possible\n",
      "\t- Explicitly set the environment variable TOKENIZERS_PARALLELISM=(true | false)\n",
      "huggingface/tokenizers: The current process just got forked, after parallelism has already been used. Disabling parallelism to avoid deadlocks...\n",
      "To disable this warning, you can either:\n",
      "\t- Avoid using `tokenizers` before the fork if possible\n",
      "\t- Explicitly set the environment variable TOKENIZERS_PARALLELISM=(true | false)\n"
     ]
    }
   ],
   "source": [
    "loader = SeleniumURLLoader(urls=urls)\n",
    "docs_not_splitted = loader.load()"
   ]
  },
  {
   "cell_type": "markdown",
   "id": "10872d87",
   "metadata": {},
   "source": [
    "## Defining The Charater Splitting Parameters and Splitting the Scrapped Content"
   ]
  },
  {
   "cell_type": "code",
   "execution_count": 9,
   "id": "c97df56e",
   "metadata": {},
   "outputs": [
    {
     "name": "stderr",
     "output_type": "stream",
     "text": [
      "[nltk_data] Downloading package punkt to /Users/apple/nltk_data...\n",
      "[nltk_data]   Unzipping tokenizers/punkt.zip.\n",
      "[nltk_data] Downloading package averaged_perceptron_tagger to\n",
      "[nltk_data]     /Users/apple/nltk_data...\n",
      "[nltk_data]   Unzipping taggers/averaged_perceptron_tagger.zip.\n",
      "Created a chunk of size 1226, which is longer than the specified 1000\n"
     ]
    }
   ],
   "source": [
    "\n",
    "# we split the documents into smaller chunks\n",
    "text_splitter = CharacterTextSplitter(chunk_size=1000, chunk_overlap=0)\n",
    "docs = text_splitter.split_documents(docs_not_splitted)"
   ]
  },
  {
   "cell_type": "markdown",
   "id": "cc098877",
   "metadata": {},
   "source": [
    "## verifing  whether the content has been loaded sucessfully or not\n"
   ]
  },
  {
   "cell_type": "code",
   "execution_count": null,
   "id": "14929d71",
   "metadata": {},
   "outputs": [],
   "source": [
    "docs[0]"
   ]
  },
  {
   "cell_type": "markdown",
   "id": "00e63b98",
   "metadata": {},
   "source": [
    "## Importing  Embeddings Module"
   ]
  },
  {
   "cell_type": "code",
   "execution_count": 16,
   "id": "654354f0",
   "metadata": {},
   "outputs": [],
   "source": [
    "embeddings = HuggingFaceEmbeddings(model_name=\"all-MiniLM-L6-v2\")"
   ]
  },
  {
   "cell_type": "markdown",
   "id": "9802bba0",
   "metadata": {},
   "source": [
    "## Creating Vector Database Using FAISS for Faster Similarity Search"
   ]
  },
  {
   "cell_type": "code",
   "execution_count": 19,
   "id": "547938e7",
   "metadata": {},
   "outputs": [],
   "source": [
    "faiss_db = FAISS.from_documents(docs, embeddings)"
   ]
  },
  {
   "cell_type": "code",
   "execution_count": 36,
   "id": "4bbec773",
   "metadata": {},
   "outputs": [],
   "source": [
    "result = faiss_db.similarity_search(\"how to delete spotify accounts\")\n"
   ]
  },
  {
   "cell_type": "markdown",
   "id": "0094d387",
   "metadata": {},
   "source": [
    "## Giving memory to the Model to concerntrate to the context of the user"
   ]
  },
  {
   "cell_type": "code",
   "execution_count": 37,
   "id": "e9b3d63f",
   "metadata": {},
   "outputs": [],
   "source": [
    "# Create a ConversationBufferMemory instance.\n",
    "memory = ConversationBufferMemory(memory_key=\"chat_history\", input_key=\"question\")\n",
    "\n",
    "# Load the QA chain with memory.\n",
    "chain = load_qa_chain(OpenAI(), chain_type=\"stuff\", memory=memory)"
   ]
  },
  {
   "cell_type": "markdown",
   "id": "dea068e6",
   "metadata": {},
   "source": [
    "## Defining the Function to perform Question and Answering"
   ]
  },
  {
   "cell_type": "code",
   "execution_count": 41,
   "id": "b408f9f8",
   "metadata": {},
   "outputs": [],
   "source": [
    "def answer_question(query):\n",
    "    \"\"\"\n",
    "    Answer a question using the loaded model and preprocessed embeddings.\n",
    "    \"\"\"\n",
    "    # Search for documents similar to the query within the preprocessed embeddings\n",
    "    docs = faiss_db.similarity_search(query)\n",
    "\n",
    "    # Get the answer from the model\n",
    "    answer = chain.run(input_documents=docs, question=query)\n",
    "    return answer"
   ]
  },
  {
   "cell_type": "code",
   "execution_count": 42,
   "id": "d13d2832",
   "metadata": {},
   "outputs": [],
   "source": [
    "result = answer_question(\"What Happens When You Delete Your Spotify Account\")"
   ]
  },
  {
   "cell_type": "code",
   "execution_count": 43,
   "id": "4859b1ed",
   "metadata": {},
   "outputs": [
    {
     "name": "stdout",
     "output_type": "stream",
     "text": [
      " When you permanently delete your Spotify account, all of your data will be erased forever and you won’t have access to any of your Spotify data anymore. You will lose access to your playlists and saved music, liked songs, followers, and followings. You will also not be able to use your Spotify username again in the future.\n"
     ]
    }
   ],
   "source": [
    "print(result)"
   ]
  },
  {
   "cell_type": "code",
   "execution_count": null,
   "id": "f4981a0f",
   "metadata": {},
   "outputs": [],
   "source": []
  }
 ],
 "metadata": {
  "kernelspec": {
   "display_name": "Python 3 (ipykernel)",
   "language": "python",
   "name": "python3"
  },
  "language_info": {
   "codemirror_mode": {
    "name": "ipython",
    "version": 3
   },
   "file_extension": ".py",
   "mimetype": "text/x-python",
   "name": "python",
   "nbconvert_exporter": "python",
   "pygments_lexer": "ipython3",
   "version": "3.11.4"
  }
 },
 "nbformat": 4,
 "nbformat_minor": 5
}
